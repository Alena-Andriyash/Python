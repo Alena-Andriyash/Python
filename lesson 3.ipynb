{
 "cells": [
  {
   "cell_type": "markdown",
   "id": "8c1562f1",
   "metadata": {},
   "source": [
    "# факториал числа"
   ]
  },
  {
   "cell_type": "code",
   "execution_count": 4,
   "id": "3beae74a",
   "metadata": {},
   "outputs": [
    {
     "name": "stdout",
     "output_type": "stream",
     "text": [
      "i= 1 result= 1\n",
      "i= 2 result= 2\n"
     ]
    }
   ],
   "source": [
    "result = 1\n",
    "# так как это умножение и если будет 0 то значение обнулится\n",
    "for i in range (1,3):\n",
    "    result = result*i\n",
    "    print('i=',i,'result=', result)"
   ]
  },
  {
   "cell_type": "code",
   "execution_count": 12,
   "id": "12f63481",
   "metadata": {},
   "outputs": [],
   "source": [
    "def factorial(n):\n",
    "    result = 1\n",
    "    for i in range (1, n+1):\n",
    "        result = result*i\n",
    "        print('i=',i,'result=', result)"
   ]
  },
  {
   "cell_type": "code",
   "execution_count": 13,
   "id": "d9ac4c6e",
   "metadata": {},
   "outputs": [
    {
     "name": "stdout",
     "output_type": "stream",
     "text": [
      "i= 1 result= 1\n",
      "i= 2 result= 2\n",
      "i= 3 result= 6\n",
      "i= 4 result= 24\n",
      "i= 5 result= 120\n"
     ]
    }
   ],
   "source": [
    "factorial(5)"
   ]
  },
  {
   "cell_type": "code",
   "execution_count": 18,
   "id": "b2abb832",
   "metadata": {},
   "outputs": [],
   "source": [
    "def factorial(n):\n",
    "    result = 1\n",
    "    for i in range (1, n+1):\n",
    "        result = result*i\n",
    "    print(f'факториал {n} = {result}')"
   ]
  },
  {
   "cell_type": "code",
   "execution_count": 19,
   "id": "08e8101b",
   "metadata": {},
   "outputs": [
    {
     "name": "stdout",
     "output_type": "stream",
     "text": [
      "факториал 6 = 720\n"
     ]
    }
   ],
   "source": [
    "factorial(6)"
   ]
  },
  {
   "cell_type": "code",
   "execution_count": 24,
   "id": "18c1b0cd",
   "metadata": {},
   "outputs": [],
   "source": [
    "def factorial2(n):\n",
    "    result = 1\n",
    "    for i in range (1, n+1):\n",
    "        result = result*i\n",
    "        print(f'факториал {i} = {result}')"
   ]
  },
  {
   "cell_type": "code",
   "execution_count": 25,
   "id": "3bf89390",
   "metadata": {},
   "outputs": [
    {
     "name": "stdout",
     "output_type": "stream",
     "text": [
      "факториал 1 = 1\n",
      "факториал 2 = 2\n",
      "факториал 3 = 6\n",
      "факториал 4 = 24\n",
      "факториал 5 = 120\n",
      "факториал 6 = 720\n"
     ]
    }
   ],
   "source": [
    "factorial2(6)"
   ]
  },
  {
   "cell_type": "markdown",
   "id": "33d53c3a",
   "metadata": {},
   "source": [
    "# Четные и нечетные\n"
   ]
  },
  {
   "cell_type": "raw",
   "id": "aa75716c",
   "metadata": {},
   "source": [
    "Сделать функцию, которая принимает на вход число n и вычисляет отдельно сумму всех четных и отдельно нечетных чисел в промежутке от 0 до n-1 и печатает обе суммы\n",
    "\n",
    "sum_even_uneven(10) ->\n",
    "    \"Sum even: 20\"\n",
    "    \"Sum uneven: 25\""
   ]
  },
  {
   "cell_type": "code",
   "execution_count": 37,
   "id": "46daeed2",
   "metadata": {},
   "outputs": [
    {
     "name": "stdout",
     "output_type": "stream",
     "text": [
      "5\n",
      "1\n",
      "1 1\n",
      "2\n",
      "2 2\n",
      "3\n",
      "3 4\n",
      "4\n",
      "4 6\n",
      "5\n",
      "5 9\n",
      "Sum even: 6\n",
      "Sum uneven: 9\n"
     ]
    }
   ],
   "source": [
    "\n",
    "n = int(input())\n",
    "even = 0\n",
    "uneven = 0\n",
    "for i in range(1,n+1):\n",
    "    print(i)\n",
    "    if (i % 2) == 0:\n",
    "        even = even + i\n",
    "        print(i,even)\n",
    "    else:\n",
    "        uneven = uneven + i\n",
    "        print(i,uneven)\n",
    "print(\"Sum even:\", even)\n",
    "print(\"Sum uneven:\", uneven)\n",
    "        "
   ]
  },
  {
   "cell_type": "code",
   "execution_count": 49,
   "id": "a1f84dda",
   "metadata": {},
   "outputs": [],
   "source": [
    "def sum_el():\n",
    "    n = int(input(\"Введитечисло:\"))\n",
    "    even = 0\n",
    "    uneven = 0\n",
    "    for i in range(1,n+1):\n",
    "        if (i % 2) == 0:\n",
    "            even = even + i\n",
    "        else:\n",
    "            uneven = uneven + i\n",
    "    print(\"Sum even:\", even)\n",
    "    print(\"Sum uneven:\", uneven)"
   ]
  },
  {
   "cell_type": "code",
   "execution_count": 50,
   "id": "ccb4c3a3",
   "metadata": {},
   "outputs": [
    {
     "name": "stdout",
     "output_type": "stream",
     "text": [
      "Введитечисло:3\n",
      "Sum even: 2\n",
      "Sum uneven: 4\n"
     ]
    }
   ],
   "source": [
    "sum_el()"
   ]
  },
  {
   "cell_type": "markdown",
   "id": "fec4add7",
   "metadata": {},
   "source": [
    "# Фибоначчи"
   ]
  },
  {
   "cell_type": "code",
   "execution_count": 149,
   "id": "36c9f8b2",
   "metadata": {},
   "outputs": [
    {
     "name": "stdout",
     "output_type": "stream",
     "text": [
      "7\n",
      "0 1 1 2\n",
      "1 1 2 3\n",
      "2 2 3 5\n",
      "3 3 5 8\n",
      "4 5 8 13\n",
      "[1, 1, 2, 3, 5, 8, 13]\n"
     ]
    }
   ],
   "source": [
    "n = int(input())\n",
    "Fibonacci = [1,1]\n",
    "Previous = 1\n",
    "Current = 1\n",
    "if n > 1:\n",
    "    for i in range(n-2):\n",
    "        \n",
    "        Fibonacci.append(Fibonacci[i]+Fibonacci[i+1])\n",
    "        print(i, Fibonacci[i],Fibonacci[i+1],Fibonacci[i]+Fibonacci[i+1])\n",
    "        \n",
    "    print(Fibonacci)\n",
    "else:\n",
    "    print(Fibonacci[0])    "
   ]
  },
  {
   "cell_type": "code",
   "execution_count": 145,
   "id": "29bc54f4",
   "metadata": {},
   "outputs": [],
   "source": [
    "def Fibonacci():\n",
    "    n = int(input())\n",
    "    Fibonacci1 = [1]\n",
    "    Fibonacci = [1,1]\n",
    "    Previous = 1\n",
    "    Current = 1\n",
    "    if n > 1:\n",
    "        for i in range(n-2):\n",
    "\n",
    "            Fibonacci.append(Fibonacci[i]+Fibonacci[i+1])\n",
    "\n",
    "        print(Fibonacci)\n",
    "    else:\n",
    "        print(Fibonacci1)   "
   ]
  },
  {
   "cell_type": "code",
   "execution_count": 144,
   "id": "1ac454ad",
   "metadata": {},
   "outputs": [
    {
     "name": "stdout",
     "output_type": "stream",
     "text": [
      "3\n",
      "[1, 1, 2]\n"
     ]
    }
   ],
   "source": [
    "Fibonacci()"
   ]
  },
  {
   "cell_type": "markdown",
   "id": "9351d91b",
   "metadata": {},
   "source": [
    "# Дискриминант"
   ]
  },
  {
   "cell_type": "raw",
   "id": "03584b2a",
   "metadata": {},
   "source": [
    "    Попробуй почитать про if-elif-else и написать функцию, которая принимает на вход a, b, c,  и возвращает значения корней. Для отрицательного дискриминанта можно ничего не возвращать."
   ]
  },
  {
   "cell_type": "code",
   "execution_count": 113,
   "id": "e6ddbfb5",
   "metadata": {},
   "outputs": [],
   "source": [
    "def discriminant():\n",
    "    a = int(input(\"Введите а:\"))\n",
    "    b = int(input(\"Введите b:\"))\n",
    "    c = int(input(\"Введите c:\"))\n",
    "    D = b**2 - 4*a*c\n",
    "    print(D)\n",
    "    if D < 0:\n",
    "        print('корней нет')\n",
    "    elif D ==0:\n",
    "        x = - (b/(2*a))\n",
    "        print('корень =', x)\n",
    "    else:\n",
    "        x1=(-b + D**0.5)/2*a\n",
    "        x2=(-b - D**0.5)/2*a\n",
    "        print('два корня x1 =', x1, 'x2 = ',x2)\n",
    "    "
   ]
  },
  {
   "cell_type": "code",
   "execution_count": 114,
   "id": "fe5ce57a",
   "metadata": {},
   "outputs": [
    {
     "name": "stdout",
     "output_type": "stream",
     "text": [
      "Введите а:1\n",
      "Введите b:-4\n",
      "Введите c:-5\n",
      "36\n",
      "два корня x1 = 5.0 x2 =  -1.0\n"
     ]
    }
   ],
   "source": [
    "discriminant()"
   ]
  },
  {
   "cell_type": "code",
   "execution_count": 62,
   "id": "a33f6b29",
   "metadata": {
    "scrolled": true
   },
   "outputs": [
    {
     "name": "stdout",
     "output_type": "stream",
     "text": [
      "9\n",
      "шаг= 0 Previous= 0 Current= 1\n",
      "шаг= 1 Previous= 1 Current= 2\n",
      "шаг= 2 Previous= 1 Current= 3\n",
      "шаг= 3 Previous= 2 Current= 5\n",
      "шаг= 4 Previous= 3 Current= 8\n",
      "шаг= 5 Previous= 5 Current= 13\n",
      "шаг= 6 Previous= 8 Current= 21\n",
      "[0, 1, 1, 2, 3, 5, 8, 13, 21]\n"
     ]
    }
   ],
   "source": [
    "n = int(input())\n",
    "Fibonacci = [0,1]\n",
    "Previous = 0\n",
    "Current = 1\n",
    "C = 0\n",
    "if n >= 1:\n",
    "    for i in range(n-2):\n",
    "        C = Previous\n",
    "        Previous = Current\n",
    "        Current = C + Current\n",
    "        Fibonacci.append(Current)\n",
    "        print('шаг=',i,'Previous=',C, 'Current=',Current)\n",
    "    \n",
    "    print(Fibonacci)\n",
    "else:\n",
    "    print(Fibonacci[0]) "
   ]
  },
  {
   "cell_type": "code",
   "execution_count": 72,
   "id": "750dc158",
   "metadata": {},
   "outputs": [],
   "source": [
    "\n",
    "def Fib (n):\n",
    "    Fibonacci = [0,1]\n",
    "    Previous = 0\n",
    "    Current = 1\n",
    "    C = 0\n",
    "    if n >= 1:\n",
    "        for i in range(n-2):\n",
    "            C = Previous\n",
    "            Previous = Current\n",
    "            Current = C + Current\n",
    "            Fibonacci.append(Current)\n",
    "        print(Fibonacci)\n",
    "    else:\n",
    "        print(Fibonacci[0]) "
   ]
  },
  {
   "cell_type": "code",
   "execution_count": 71,
   "id": "94fe1bf6",
   "metadata": {},
   "outputs": [
    {
     "name": "stdout",
     "output_type": "stream",
     "text": [
      "шаг= 0 Previous= 0 Current= 1\n",
      "шаг= 1 Previous= 1 Current= 2\n",
      "шаг= 2 Previous= 1 Current= 3\n",
      "шаг= 3 Previous= 2 Current= 5\n",
      "[0, 1, 1, 2, 3, 5]\n"
     ]
    }
   ],
   "source": [
    "Fib (6)"
   ]
  },
  {
   "cell_type": "code",
   "execution_count": null,
   "id": "c9f1bb35",
   "metadata": {},
   "outputs": [],
   "source": []
  }
 ],
 "metadata": {
  "kernelspec": {
   "display_name": "Python 3 (ipykernel)",
   "language": "python",
   "name": "python3"
  },
  "language_info": {
   "codemirror_mode": {
    "name": "ipython",
    "version": 3
   },
   "file_extension": ".py",
   "mimetype": "text/x-python",
   "name": "python",
   "nbconvert_exporter": "python",
   "pygments_lexer": "ipython3",
   "version": "3.9.12"
  }
 },
 "nbformat": 4,
 "nbformat_minor": 5
}
